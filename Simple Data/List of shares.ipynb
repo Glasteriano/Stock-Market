{
 "cells": [
  {
   "cell_type": "markdown",
   "id": "8e6cca42",
   "metadata": {},
   "source": [
    "### Importing Libraries"
   ]
  },
  {
   "cell_type": "code",
   "execution_count": 1,
   "id": "3533c7f4",
   "metadata": {},
   "outputs": [],
   "source": [
    "import pandas as pd # Biblioteca usada para acessar DataFrames e gerar estatísticas\n",
    "from pandas_datareader import data # Carregar dados financeiros on-line (tens de instalar no prompt antes)"
   ]
  },
  {
   "cell_type": "markdown",
   "id": "72eb177a",
   "metadata": {},
   "source": [
    "### More than one share"
   ]
  },
  {
   "cell_type": "code",
   "execution_count": 3,
   "id": "70a620c4",
   "metadata": {},
   "outputs": [],
   "source": [
    "ações = ['GOLL4.SA', 'KLBN3.SA', 'WEGE3.SA', 'MGLU3.SA', 'TOTS3.SA', 'BOVA11.SA']\n",
    "# Criando uma lista com o nome das ações que serão usadas"
   ]
  },
  {
   "cell_type": "code",
   "execution_count": 4,
   "id": "b6d08fad",
   "metadata": {},
   "outputs": [],
   "source": [
    "ações_df = pd.DataFrame()\n",
    "for ação in ações: # Criando um loop para percorrer a lista com o nome das ações e obter o resultado\n",
    "    ações_df[ação] = data.DataReader(name = ação, data_source='yahoo', start='2020-01-01')['Close']\n",
    "    # ['Close'] no final indica o parâmetro passado para pegar somente a coluna de Fachamento das ações"
   ]
  },
  {
   "cell_type": "code",
   "execution_count": 5,
   "id": "351a196c",
   "metadata": {},
   "outputs": [
    {
     "data": {
      "text/html": [
       "<div>\n",
       "<style scoped>\n",
       "    .dataframe tbody tr th:only-of-type {\n",
       "        vertical-align: middle;\n",
       "    }\n",
       "\n",
       "    .dataframe tbody tr th {\n",
       "        vertical-align: top;\n",
       "    }\n",
       "\n",
       "    .dataframe thead th {\n",
       "        text-align: right;\n",
       "    }\n",
       "</style>\n",
       "<table border=\"1\" class=\"dataframe\">\n",
       "  <thead>\n",
       "    <tr style=\"text-align: right;\">\n",
       "      <th></th>\n",
       "      <th>GOLL4.SA</th>\n",
       "      <th>KLBN3.SA</th>\n",
       "      <th>WEGE3.SA</th>\n",
       "      <th>MGLU3.SA</th>\n",
       "      <th>TOTS3.SA</th>\n",
       "      <th>BOVA11.SA</th>\n",
       "    </tr>\n",
       "    <tr>\n",
       "      <th>Date</th>\n",
       "      <th></th>\n",
       "      <th></th>\n",
       "      <th></th>\n",
       "      <th></th>\n",
       "      <th></th>\n",
       "      <th></th>\n",
       "    </tr>\n",
       "  </thead>\n",
       "  <tbody>\n",
       "    <tr>\n",
       "      <th>2020-01-02</th>\n",
       "      <td>37.169998</td>\n",
       "      <td>4.34</td>\n",
       "      <td>17.620001</td>\n",
       "      <td>12.3325</td>\n",
       "      <td>23.049999</td>\n",
       "      <td>114.239998</td>\n",
       "    </tr>\n",
       "    <tr>\n",
       "      <th>2020-01-03</th>\n",
       "      <td>35.900002</td>\n",
       "      <td>4.35</td>\n",
       "      <td>17.395000</td>\n",
       "      <td>12.2225</td>\n",
       "      <td>23.540001</td>\n",
       "      <td>113.800003</td>\n",
       "    </tr>\n",
       "    <tr>\n",
       "      <th>2020-01-06</th>\n",
       "      <td>34.250000</td>\n",
       "      <td>4.35</td>\n",
       "      <td>17.440001</td>\n",
       "      <td>12.2325</td>\n",
       "      <td>23.003332</td>\n",
       "      <td>112.589996</td>\n",
       "    </tr>\n",
       "    <tr>\n",
       "      <th>2020-01-07</th>\n",
       "      <td>34.450001</td>\n",
       "      <td>4.35</td>\n",
       "      <td>17.575001</td>\n",
       "      <td>12.1975</td>\n",
       "      <td>23.100000</td>\n",
       "      <td>112.239998</td>\n",
       "    </tr>\n",
       "    <tr>\n",
       "      <th>2020-01-08</th>\n",
       "      <td>35.810001</td>\n",
       "      <td>4.28</td>\n",
       "      <td>16.910000</td>\n",
       "      <td>12.5725</td>\n",
       "      <td>22.790001</td>\n",
       "      <td>111.949997</td>\n",
       "    </tr>\n",
       "    <tr>\n",
       "      <th>...</th>\n",
       "      <td>...</td>\n",
       "      <td>...</td>\n",
       "      <td>...</td>\n",
       "      <td>...</td>\n",
       "      <td>...</td>\n",
       "      <td>...</td>\n",
       "    </tr>\n",
       "    <tr>\n",
       "      <th>2022-05-27</th>\n",
       "      <td>15.220000</td>\n",
       "      <td>5.03</td>\n",
       "      <td>26.219999</td>\n",
       "      <td>4.0000</td>\n",
       "      <td>27.760000</td>\n",
       "      <td>107.900002</td>\n",
       "    </tr>\n",
       "    <tr>\n",
       "      <th>2022-05-30</th>\n",
       "      <td>14.650000</td>\n",
       "      <td>5.05</td>\n",
       "      <td>25.540001</td>\n",
       "      <td>3.8400</td>\n",
       "      <td>27.820000</td>\n",
       "      <td>106.919998</td>\n",
       "    </tr>\n",
       "    <tr>\n",
       "      <th>2022-05-31</th>\n",
       "      <td>14.510000</td>\n",
       "      <td>5.03</td>\n",
       "      <td>25.370001</td>\n",
       "      <td>3.7200</td>\n",
       "      <td>28.370001</td>\n",
       "      <td>107.180000</td>\n",
       "    </tr>\n",
       "    <tr>\n",
       "      <th>2022-06-01</th>\n",
       "      <td>13.950000</td>\n",
       "      <td>5.19</td>\n",
       "      <td>26.209999</td>\n",
       "      <td>3.7100</td>\n",
       "      <td>28.940001</td>\n",
       "      <td>107.470001</td>\n",
       "    </tr>\n",
       "    <tr>\n",
       "      <th>2022-06-02</th>\n",
       "      <td>13.980000</td>\n",
       "      <td>5.10</td>\n",
       "      <td>25.969999</td>\n",
       "      <td>3.8000</td>\n",
       "      <td>28.980000</td>\n",
       "      <td>107.589996</td>\n",
       "    </tr>\n",
       "  </tbody>\n",
       "</table>\n",
       "<p>600 rows × 6 columns</p>\n",
       "</div>"
      ],
      "text/plain": [
       "             GOLL4.SA  KLBN3.SA   WEGE3.SA  MGLU3.SA   TOTS3.SA   BOVA11.SA\n",
       "Date                                                                       \n",
       "2020-01-02  37.169998      4.34  17.620001   12.3325  23.049999  114.239998\n",
       "2020-01-03  35.900002      4.35  17.395000   12.2225  23.540001  113.800003\n",
       "2020-01-06  34.250000      4.35  17.440001   12.2325  23.003332  112.589996\n",
       "2020-01-07  34.450001      4.35  17.575001   12.1975  23.100000  112.239998\n",
       "2020-01-08  35.810001      4.28  16.910000   12.5725  22.790001  111.949997\n",
       "...               ...       ...        ...       ...        ...         ...\n",
       "2022-05-27  15.220000      5.03  26.219999    4.0000  27.760000  107.900002\n",
       "2022-05-30  14.650000      5.05  25.540001    3.8400  27.820000  106.919998\n",
       "2022-05-31  14.510000      5.03  25.370001    3.7200  28.370001  107.180000\n",
       "2022-06-01  13.950000      5.19  26.209999    3.7100  28.940001  107.470001\n",
       "2022-06-02  13.980000      5.10  25.969999    3.8000  28.980000  107.589996\n",
       "\n",
       "[600 rows x 6 columns]"
      ]
     },
     "execution_count": 5,
     "metadata": {},
     "output_type": "execute_result"
    }
   ],
   "source": [
    "ações_df"
   ]
  },
  {
   "cell_type": "code",
   "execution_count": 6,
   "id": "74d6fd97",
   "metadata": {},
   "outputs": [],
   "source": [
    "ações_df = ações_df.rename(columns={'GOLL4.SA':'Gol', 'KLBN3.SA':'Klabin', 'WEGE3.SA':'Wege',\n",
    "                                    'MGLU3.SA':'Magalu', 'TOTS3.SA':'Totvs', 'BOVA11.SA':'B3'})    \n",
    "# Renomeando as ações para facilitar a leitura e a digitação"
   ]
  },
  {
   "cell_type": "code",
   "execution_count": 7,
   "id": "27dda7a2",
   "metadata": {
    "scrolled": true
   },
   "outputs": [
    {
     "data": {
      "text/html": [
       "<div>\n",
       "<style scoped>\n",
       "    .dataframe tbody tr th:only-of-type {\n",
       "        vertical-align: middle;\n",
       "    }\n",
       "\n",
       "    .dataframe tbody tr th {\n",
       "        vertical-align: top;\n",
       "    }\n",
       "\n",
       "    .dataframe thead th {\n",
       "        text-align: right;\n",
       "    }\n",
       "</style>\n",
       "<table border=\"1\" class=\"dataframe\">\n",
       "  <thead>\n",
       "    <tr style=\"text-align: right;\">\n",
       "      <th></th>\n",
       "      <th>Gol</th>\n",
       "      <th>Klabin</th>\n",
       "      <th>Wege</th>\n",
       "      <th>Magalu</th>\n",
       "      <th>Totvs</th>\n",
       "      <th>B3</th>\n",
       "    </tr>\n",
       "    <tr>\n",
       "      <th>Date</th>\n",
       "      <th></th>\n",
       "      <th></th>\n",
       "      <th></th>\n",
       "      <th></th>\n",
       "      <th></th>\n",
       "      <th></th>\n",
       "    </tr>\n",
       "  </thead>\n",
       "  <tbody>\n",
       "    <tr>\n",
       "      <th>2022-05-31</th>\n",
       "      <td>14.51</td>\n",
       "      <td>5.03</td>\n",
       "      <td>25.370001</td>\n",
       "      <td>3.72</td>\n",
       "      <td>28.370001</td>\n",
       "      <td>107.180000</td>\n",
       "    </tr>\n",
       "    <tr>\n",
       "      <th>2022-06-01</th>\n",
       "      <td>13.95</td>\n",
       "      <td>5.19</td>\n",
       "      <td>26.209999</td>\n",
       "      <td>3.71</td>\n",
       "      <td>28.940001</td>\n",
       "      <td>107.470001</td>\n",
       "    </tr>\n",
       "    <tr>\n",
       "      <th>2022-06-02</th>\n",
       "      <td>13.98</td>\n",
       "      <td>5.10</td>\n",
       "      <td>25.969999</td>\n",
       "      <td>3.80</td>\n",
       "      <td>28.980000</td>\n",
       "      <td>107.589996</td>\n",
       "    </tr>\n",
       "  </tbody>\n",
       "</table>\n",
       "</div>"
      ],
      "text/plain": [
       "              Gol  Klabin       Wege  Magalu      Totvs          B3\n",
       "Date                                                               \n",
       "2022-05-31  14.51    5.03  25.370001    3.72  28.370001  107.180000\n",
       "2022-06-01  13.95    5.19  26.209999    3.71  28.940001  107.470001\n",
       "2022-06-02  13.98    5.10  25.969999    3.80  28.980000  107.589996"
      ]
     },
     "execution_count": 7,
     "metadata": {},
     "output_type": "execute_result"
    }
   ],
   "source": [
    "ações_df.tail(3) # Apenas conferindo se foi renomeado certo as colunas"
   ]
  },
  {
   "cell_type": "code",
   "execution_count": 8,
   "id": "7c45c4f2",
   "metadata": {},
   "outputs": [
    {
     "data": {
      "text/plain": [
       "Gol       0\n",
       "Klabin    0\n",
       "Wege      0\n",
       "Magalu    0\n",
       "Totvs     0\n",
       "B3        0\n",
       "dtype: int64"
      ]
     },
     "execution_count": 8,
     "metadata": {},
     "output_type": "execute_result"
    }
   ],
   "source": [
    "ações_df.isnull().sum()\n",
    "# .isnull() retorna a tabela inteira mostrando qual linha teve número nulo\n",
    "# .sum() faz o somatório (n'êsse caso foi usado para somar quantos valores nulos tinha)\n",
    "# Utilizou-se o somatório para não retornar a tabela inteira devido as muitas linhas nela"
   ]
  },
  {
   "cell_type": "code",
   "execution_count": 9,
   "id": "bd286a11",
   "metadata": {},
   "outputs": [
    {
     "data": {
      "text/plain": [
       "(600, 6)"
      ]
     },
     "execution_count": 9,
     "metadata": {},
     "output_type": "execute_result"
    }
   ],
   "source": [
    "ações_df.shape\n",
    "# Acessando o tamanho de ações_df em Linhas e Colunas"
   ]
  },
  {
   "cell_type": "code",
   "execution_count": 10,
   "id": "5939ab11",
   "metadata": {},
   "outputs": [],
   "source": [
    "ações_df.dropna(inplace=True)\n",
    "# Fazendo a remoção de valores nulos caso tivesse"
   ]
  },
  {
   "cell_type": "code",
   "execution_count": 11,
   "id": "f1d74e82",
   "metadata": {},
   "outputs": [],
   "source": [
    "ações_df.to_csv('Lista de Ações.cvs')\n",
    "# Salvando os dados em arquivo .csv"
   ]
  },
  {
   "cell_type": "code",
   "execution_count": null,
   "id": "5f27223f",
   "metadata": {
    "collapsed": true
   },
   "outputs": [],
   "source": [
    "ações_df = pd.read_csv('Lista de Ações.cvs')\n",
    "# Lendo o arquivo .csv\n",
    "\n",
    "ações_df"
   ]
  },
  {
   "cell_type": "markdown",
   "id": "5774194c",
   "metadata": {},
   "source": [
    "#### Obs.:\n",
    "        Como não rodei o ações_df = pd.read_csv('Lista de Ações.csv') e visualizei-o, o código está utilizando os dados da internet para mostrar as colunas. Caso tivesse rodado o arquivo .csv e tivesse pedido as colunas, a Data também entraria como uma coluna, sendo necessário chamar as colunas depois da dada. Para fazer isso era só digitar:\n",
    "\n",
    "ações_df.columns[1:]\n",
    "\n",
    "    Que chamaria a partir do índice 1, ou seja, da segunda coluna p'ra lá"
   ]
  },
  {
   "cell_type": "code",
   "execution_count": 12,
   "id": "e7e1ee46",
   "metadata": {},
   "outputs": [
    {
     "data": {
      "text/plain": [
       "Index(['Gol', 'Klabin', 'Wege', 'Magalu', 'Totvs', 'B3'], dtype='object')"
      ]
     },
     "execution_count": 12,
     "metadata": {},
     "output_type": "execute_result"
    }
   ],
   "source": [
    "ações_df.columns"
   ]
  },
  {
   "cell_type": "code",
   "execution_count": 13,
   "id": "ae21a7a6",
   "metadata": {
    "scrolled": false
   },
   "outputs": [
    {
     "data": {
      "text/html": [
       "<div>\n",
       "<style scoped>\n",
       "    .dataframe tbody tr th:only-of-type {\n",
       "        vertical-align: middle;\n",
       "    }\n",
       "\n",
       "    .dataframe tbody tr th {\n",
       "        vertical-align: top;\n",
       "    }\n",
       "\n",
       "    .dataframe thead th {\n",
       "        text-align: right;\n",
       "    }\n",
       "</style>\n",
       "<table border=\"1\" class=\"dataframe\">\n",
       "  <thead>\n",
       "    <tr style=\"text-align: right;\">\n",
       "      <th></th>\n",
       "      <th>Gol</th>\n",
       "      <th>Klabin</th>\n",
       "      <th>Wege</th>\n",
       "      <th>Magalu</th>\n",
       "      <th>Totvs</th>\n",
       "      <th>B3</th>\n",
       "    </tr>\n",
       "  </thead>\n",
       "  <tbody>\n",
       "    <tr>\n",
       "      <th>count</th>\n",
       "      <td>600.000000</td>\n",
       "      <td>600.000000</td>\n",
       "      <td>600.000000</td>\n",
       "      <td>600.000000</td>\n",
       "      <td>600.000000</td>\n",
       "      <td>600.000000</td>\n",
       "    </tr>\n",
       "    <tr>\n",
       "      <th>mean</th>\n",
       "      <td>20.131450</td>\n",
       "      <td>5.243200</td>\n",
       "      <td>31.924125</td>\n",
       "      <td>16.103042</td>\n",
       "      <td>29.042406</td>\n",
       "      <td>104.329604</td>\n",
       "    </tr>\n",
       "    <tr>\n",
       "      <th>std</th>\n",
       "      <td>5.826024</td>\n",
       "      <td>0.861897</td>\n",
       "      <td>7.239957</td>\n",
       "      <td>6.927914</td>\n",
       "      <td>5.609186</td>\n",
       "      <td>12.701135</td>\n",
       "    </tr>\n",
       "    <tr>\n",
       "      <th>min</th>\n",
       "      <td>5.600000</td>\n",
       "      <td>2.580000</td>\n",
       "      <td>13.235000</td>\n",
       "      <td>3.670000</td>\n",
       "      <td>14.033333</td>\n",
       "      <td>61.139999</td>\n",
       "    </tr>\n",
       "    <tr>\n",
       "      <th>25%</th>\n",
       "      <td>16.889999</td>\n",
       "      <td>4.650000</td>\n",
       "      <td>27.168749</td>\n",
       "      <td>9.749375</td>\n",
       "      <td>25.987500</td>\n",
       "      <td>98.229998</td>\n",
       "    </tr>\n",
       "    <tr>\n",
       "      <th>50%</th>\n",
       "      <td>19.440000</td>\n",
       "      <td>5.510000</td>\n",
       "      <td>33.605000</td>\n",
       "      <td>17.543750</td>\n",
       "      <td>28.655000</td>\n",
       "      <td>107.139999</td>\n",
       "    </tr>\n",
       "    <tr>\n",
       "      <th>75%</th>\n",
       "      <td>23.162500</td>\n",
       "      <td>5.920000</td>\n",
       "      <td>36.611251</td>\n",
       "      <td>21.920000</td>\n",
       "      <td>33.147501</td>\n",
       "      <td>113.327499</td>\n",
       "    </tr>\n",
       "    <tr>\n",
       "      <th>max</th>\n",
       "      <td>39.049999</td>\n",
       "      <td>6.640000</td>\n",
       "      <td>46.105000</td>\n",
       "      <td>27.450001</td>\n",
       "      <td>40.599998</td>\n",
       "      <td>125.750000</td>\n",
       "    </tr>\n",
       "  </tbody>\n",
       "</table>\n",
       "</div>"
      ],
      "text/plain": [
       "              Gol      Klabin        Wege      Magalu       Totvs          B3\n",
       "count  600.000000  600.000000  600.000000  600.000000  600.000000  600.000000\n",
       "mean    20.131450    5.243200   31.924125   16.103042   29.042406  104.329604\n",
       "std      5.826024    0.861897    7.239957    6.927914    5.609186   12.701135\n",
       "min      5.600000    2.580000   13.235000    3.670000   14.033333   61.139999\n",
       "25%     16.889999    4.650000   27.168749    9.749375   25.987500   98.229998\n",
       "50%     19.440000    5.510000   33.605000   17.543750   28.655000  107.139999\n",
       "75%     23.162500    5.920000   36.611251   21.920000   33.147501  113.327499\n",
       "max     39.049999    6.640000   46.105000   27.450001   40.599998  125.750000"
      ]
     },
     "execution_count": 13,
     "metadata": {},
     "output_type": "execute_result"
    }
   ],
   "source": [
    "ações_df.describe()\n",
    "# Obtendo algumas informações das ações"
   ]
  }
 ],
 "metadata": {
  "kernelspec": {
   "display_name": "Python 3 (ipykernel)",
   "language": "python",
   "name": "python3"
  },
  "language_info": {
   "codemirror_mode": {
    "name": "ipython",
    "version": 3
   },
   "file_extension": ".py",
   "mimetype": "text/x-python",
   "name": "python",
   "nbconvert_exporter": "python",
   "pygments_lexer": "ipython3",
   "version": "3.9.12"
  }
 },
 "nbformat": 4,
 "nbformat_minor": 5
}
